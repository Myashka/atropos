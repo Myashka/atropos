{
 "cells": [
  {
   "cell_type": "markdown",
   "metadata": {},
   "source": [
    "# Number Grid Env\n",
    "\n",
    "Number Grid Env serves as an example of navigating ASCII worlds by relying on a series of potential questions of an\n",
    "ASCII room with a player (denoted as @), and objects, denoted by numbers during training, and a test for OOD with\n",
    "alphabetical objects during evaluation."
   ]
  },
  {
   "cell_type": "code",
   "execution_count": 1,
   "metadata": {},
   "outputs": [
    {
     "name": "stderr",
     "output_type": "stream",
     "text": [
      "c:\\Users\\dmaha\\vscode_projects\\atropos\\.venv\\Lib\\site-packages\\tqdm\\auto.py:21: TqdmWarning: IProgress not found. Please update jupyter and ipywidgets. See https://ipywidgets.readthedocs.io/en/stable/user_install.html\n",
      "  from .autonotebook import tqdm as notebook_tqdm\n"
     ]
    }
   ],
   "source": [
    "# setup\n",
    "from example_env import NumberGridEnv, create_example_grid"
   ]
  },
  {
   "cell_type": "code",
   "execution_count": 2,
   "metadata": {},
   "outputs": [
    {
     "name": "stdout",
     "output_type": "stream",
     "text": [
      "Your position is (3,1).\n",
      "Map:\n",
      "#######\n",
      "#   0 #\n",
      "#   @ #\n",
      "#  4  #\n",
      "#     #\n",
      "#     #\n",
      "#######\n",
      "Question:\n",
      "What is the product of the coordinates of you and 4? Answer in (x,y) format.\n",
      "\\boxed{(6, 2)}\n",
      "--------------------------------\n",
      "Your position is (3,4).\n",
      "Map:\n",
      "#########\n",
      "#       #\n",
      "#   7   #\n",
      "#    4  #\n",
      "#       #\n",
      "#   @   #\n",
      "#  0    #\n",
      "#       #\n",
      "#########\n",
      "Question:\n",
      "What is the (nearest integer) Euclidean distance between you and 0?\n",
      "\\boxed{1})\n",
      "--------------------------------\n",
      "Your position is (8,2).\n",
      "Map:\n",
      "###########\n",
      "#   03    #\n",
      "#       4 #\n",
      "#        @#\n",
      "# 6       #\n",
      "#         #\n",
      "#   5    2#\n",
      "#         #\n",
      "#         #\n",
      "# 7       #\n",
      "###########\n",
      "Question:\n",
      "What is the (nearest integer) Euclidean distance between you and 6?\n",
      "\\boxed{7})\n",
      "--------------------------------\n"
     ]
    }
   ],
   "source": [
    "# Display some grids\n",
    "q, a =create_example_grid(\"easy\", False, 0, include_q_prompt=False)\n",
    "print(q)\n",
    "print(a)\n",
    "print(\"--------------------------------\")\n",
    "q, a = create_example_grid(\"medium\", False, 0, include_q_prompt=False)\n",
    "print(q)\n",
    "print(a)\n",
    "print(\"--------------------------------\")\n",
    "q, a = create_example_grid(\"hard\", False, 0, include_q_prompt=False)\n",
    "print(q)\n",
    "print(a)\n",
    "print(\"--------------------------------\")\n",
    "\n"
   ]
  },
  {
   "cell_type": "markdown",
   "metadata": {},
   "source": [
    "## Why Number Grid?\n",
    "Number grid serves as a way to install spatial knowledge into an LLM without requiring visual capabilities.\n",
    "\n",
    "By using some simple questions based on (where are you, where is X, what is the distance between you and X?), we can\n",
    "begin to integrate spatial knowledge into the language model by providing it with randomized rooms and objects.\n",
    "\n",
    "There are many downstream usecases for this (e.g. playing roguelike games and navigating complex tables) that this \n",
    "environment can teach. By being procedurally generated, we can easily sample a wide space without repetition."
   ]
  },
  {
   "cell_type": "code",
   "execution_count": 3,
   "metadata": {},
   "outputs": [
    {
     "name": "stderr",
     "output_type": "stream",
     "text": [
      "100%|██████████| 80/80 [00:09<00:00,  8.72it/s]"
     ]
    },
    {
     "name": "stdout",
     "output_type": "stream",
     "text": [
      "[('easy', 0.55), ('medium', 0.3), ('hard', 0.15), ('ood', 0.35)]\n"
     ]
    },
    {
     "name": "stderr",
     "output_type": "stream",
     "text": [
      "\n"
     ]
    }
   ],
   "source": [
    "# Looks good, lets get an evaluation going...\n",
    "import asyncio\n",
    "env_config, server_configs = NumberGridEnv.config_init()\n",
    "env = NumberGridEnv(\n",
    "    env_config,\n",
    "    server_configs,\n",
    "    slurm=False,\n",
    ")\n",
    "await env.evaluate()\n",
    "print(env.eval_metrics)\n"
   ]
  },
  {
   "cell_type": "markdown",
   "metadata": {},
   "source": [
    "# Current State\n",
    "\n",
    "As you can see from the above evaluation, there is quite a bit of room for improvement in these models.\n",
    "\"hard\" environments only score 15% on gpt-4.1-mini, and these are 7x7 or 9x9 rooms, not some truly difficuly ASCII map.\n",
    "\n",
    "Since there is some progression in the difficulty stats, it appears likely that we can teach the model how to navigate\n",
    "an ASCII map and collect (x,y) information."
   ]
  },
  {
   "cell_type": "code",
   "execution_count": 4,
   "metadata": {},
   "outputs": [
    {
     "name": "stdout",
     "output_type": "stream",
     "text": [
      "BaseEnvConfigWithDefaults(\n",
      "    group_size=8,\n",
      "    max_num_workers=-1,\n",
      "    max_eval_workers=16,\n",
      "    max_num_workers_per_node=8,\n",
      "    steps_per_eval=100,\n",
      "    max_token_length=2048,\n",
      "    eval_handling=<EvalHandlingEnum.STOP_TRAIN: 'STOP_TRAIN'>,\n",
      "    eval_limit_ratio=0.5,\n",
      "    eval_on_start=False,\n",
      "    inference_weight=1.0,\n",
      "    batch_size=-1,\n",
      "    max_batches_offpolicy=3,\n",
      "    tokenizer_name='NousResearch/DeepHermes-3-Llama-3-3B-Preview',\n",
      "    use_wandb=True,\n",
      "    rollout_server_url='http://localhost:8000',\n",
      "    total_steps=2,\n",
      "    wandb_name=None,\n",
      "    num_rollouts_to_keep=32,\n",
      "    num_rollouts_per_group_for_logging=1,\n",
      "    ensure_scores_are_not_same=False,\n",
      "    data_path_to_save_groups='data/number_grid.jsonl',\n",
      "    min_items_sent_before_logging=2,\n",
      "    include_messages=True\n",
      ")\n",
      "[\n",
      "    APIServerConfig(\n",
      "        timeout=1200,\n",
      "        num_max_requests_at_once=512,\n",
      "        num_requests_for_eval=64,\n",
      "        model_name='gpt-4.1-nano',\n",
      "        rolling_buffer_length=1000,\n",
      "        server_type='openai',\n",
      "        api_key=None,\n",
      "        base_url=None,\n",
      "        n_kwarg_is_ignored=False\n",
      "    )\n",
      "]\n",
      "Changed data path to data\\number_grid_3.jsonl because data/number_grid.jsonl already exists.\n",
      "Processing 2 groups of 8 responses and writing to data\\number_grid_3.jsonl\n",
      "Starting to process 2 groups...\n",
      "Processing group 1/2\n",
      "Wrote scored group to data\\number_grid_3.jsonl\n",
      "Successfully processed group 1/2\n",
      "Processing group 2/2\n",
      "Wrote scored group to data\\number_grid_3.jsonl\n",
      "Successfully processed group 2/2\n",
      "Completed processing 2 groups\n",
      "\u001b[1;34mwandb\u001b[0m: \n",
      "\u001b[1;34mwandb\u001b[0m: 🚀 View run \u001b[33mnumber_grid-2025-05-16-jagoqv\u001b[0m at: \u001b[34mhttps://wandb.ai/dmahan93/atropos/runs/ospuf97m\u001b[0m\n",
      "\u001b[1;34mwandb\u001b[0m: Find logs at: \u001b[1;35mwandb\\run-20250516_150016-ospuf97m\\logs\u001b[0m\n"
     ]
    },
    {
     "name": "stderr",
     "output_type": "stream",
     "text": [
      "wandb: Currently logged in as: dmahan93 to https://api.wandb.ai. Use `wandb login --relogin` to force relogin\n",
      "wandb: Tracking run with wandb version 0.19.10\n",
      "wandb: Run data is saved locally in c:\\Users\\dmaha\\vscode_projects\\atropos\\examples\\wandb\\run-20250516_150016-ospuf97m\n",
      "wandb: Run `wandb offline` to turn off syncing.\n",
      "wandb: Syncing run number_grid-2025-05-16-jagoqv\n",
      "wandb:  View project at https://wandb.ai/dmahan93/atropos\n",
      "wandb:  View run at https://wandb.ai/dmahan93/atropos/runs/ospuf97m\n",
      "An unexpected error occurred during processing: 'list' object has no attribute 'strip'\n"
     ]
    }
   ],
   "source": [
    "# Process command to show we can execute the main env loop and collect data.\n",
    "# We'll get data saved to data/number_grid.json to take a quick look at, as well.\n",
    "!python example_env.py process"
   ]
  }
 ],
 "metadata": {
  "kernelspec": {
   "display_name": ".venv",
   "language": "python",
   "name": "python3"
  },
  "language_info": {
   "codemirror_mode": {
    "name": "ipython",
    "version": 3
   },
   "file_extension": ".py",
   "mimetype": "text/x-python",
   "name": "python",
   "nbconvert_exporter": "python",
   "pygments_lexer": "ipython3",
   "version": "3.11.0"
  }
 },
 "nbformat": 4,
 "nbformat_minor": 2
}
